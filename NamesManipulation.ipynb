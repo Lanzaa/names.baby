{
 "cells": [
  {
   "cell_type": "code",
   "execution_count": 1,
   "metadata": {},
   "outputs": [],
   "source": [
    "import sys\n",
    "from collections import namedtuple"
   ]
  },
  {
   "cell_type": "code",
   "execution_count": 7,
   "metadata": {},
   "outputs": [],
   "source": [
    "from typing import List"
   ]
  },
  {
   "cell_type": "code",
   "execution_count": 8,
   "metadata": {},
   "outputs": [],
   "source": [
    "NameLine = namedtuple(\"NameLine\", [\"name\", \"sex\", \"count\"])"
   ]
  },
  {
   "cell_type": "code",
   "execution_count": 20,
   "metadata": {},
   "outputs": [],
   "source": [
    "def name_lines_for_year(year: int) -> List[NameLine]:\n",
    "    if not (1880 <= year <= 2019):\n",
    "        raise ValueError(\"Year out of range.\")\n",
    "    with open(f\"./data/yob{year}.txt\", \"r\") as f:\n",
    "        lines: List[str] = f.readlines()\n",
    "    name_lines = [NameLine(*line.strip().split(\",\")) for line in lines]\n",
    "    return name_lines"
   ]
  },
  {
   "cell_type": "code",
   "execution_count": 21,
   "metadata": {},
   "outputs": [],
   "source": [
    "x = name_lines_for_year(1990)"
   ]
  },
  {
   "cell_type": "code",
   "execution_count": 28,
   "metadata": {},
   "outputs": [
    {
     "data": {
      "text/plain": [
       "[NameLine(name='Jessica', sex='F', count='46481'),\n",
       " NameLine(name='Ashley', sex='F', count='45561'),\n",
       " NameLine(name='Brittany', sex='F', count='36538'),\n",
       " NameLine(name='Amanda', sex='F', count='34410'),\n",
       " NameLine(name='Samantha', sex='F', count='25865'),\n",
       " NameLine(name='Sarah', sex='F', count='25818'),\n",
       " NameLine(name='Stephanie', sex='F', count='24861'),\n",
       " NameLine(name='Jennifer', sex='F', count='22230'),\n",
       " NameLine(name='Elizabeth', sex='F', count='20748'),\n",
       " NameLine(name='Lauren', sex='F', count='20507')]"
      ]
     },
     "execution_count": 28,
     "metadata": {},
     "output_type": "execute_result"
    }
   ],
   "source": [
    "x[:10]"
   ]
  },
  {
   "cell_type": "code",
   "execution_count": 29,
   "metadata": {},
   "outputs": [],
   "source": [
    "last_fourty_years = list(range(2020-40, 2020))"
   ]
  },
  {
   "cell_type": "code",
   "execution_count": 31,
   "metadata": {},
   "outputs": [],
   "source": [
    "name_lines_fourty_years = [ nl for year in last_fourty_years for nl in name_lines_for_year(year)]"
   ]
  },
  {
   "cell_type": "code",
   "execution_count": 33,
   "metadata": {},
   "outputs": [
    {
     "data": {
      "text/plain": [
       "[NameLine(name='Jennifer', sex='F', count='58379'),\n",
       " NameLine(name='Amanda', sex='F', count='35819'),\n",
       " NameLine(name='Jessica', sex='F', count='33923'),\n",
       " NameLine(name='Melissa', sex='F', count='31641'),\n",
       " NameLine(name='Sarah', sex='F', count='25756'),\n",
       " NameLine(name='Heather', sex='F', count='19974'),\n",
       " NameLine(name='Nicole', sex='F', count='19919'),\n",
       " NameLine(name='Amy', sex='F', count='19835'),\n",
       " NameLine(name='Elizabeth', sex='F', count='19526'),\n",
       " NameLine(name='Michelle', sex='F', count='19124')]"
      ]
     },
     "execution_count": 33,
     "metadata": {},
     "output_type": "execute_result"
    }
   ],
   "source": [
    "name_lines_fourty_years[:10]"
   ]
  },
  {
   "cell_type": "code",
   "execution_count": 34,
   "metadata": {},
   "outputs": [
    {
     "data": {
      "text/plain": [
       "1125487"
      ]
     },
     "execution_count": 34,
     "metadata": {},
     "output_type": "execute_result"
    }
   ],
   "source": [
    "len(name_lines_fourty_years)"
   ]
  },
  {
   "cell_type": "code",
   "execution_count": 35,
   "metadata": {},
   "outputs": [
    {
     "data": {
      "text/plain": [
       "668291"
      ]
     },
     "execution_count": 35,
     "metadata": {},
     "output_type": "execute_result"
    }
   ],
   "source": [
    "len([name for name in name_lines_fourty_years if name.sex == 'F'])"
   ]
  },
  {
   "cell_type": "code",
   "execution_count": 36,
   "metadata": {},
   "outputs": [],
   "source": [
    "female_names = {} # {\"name\" : {year: count, year: count}}\n",
    "for year in last_fourty_years:\n",
    "    for current in name_lines_for_year(year):\n",
    "        if current.sex != \"F\":\n",
    "            continue\n",
    "        name = current.name\n",
    "        to_update = female_names.get(name, {})\n",
    "        to_update[year] = current.count\n",
    "        female_names[name] = to_update"
   ]
  },
  {
   "cell_type": "code",
   "execution_count": 41,
   "metadata": {},
   "outputs": [
    {
     "data": {
      "text/plain": [
       "['Jennifer',\n",
       " 'Amanda',\n",
       " 'Jessica',\n",
       " 'Melissa',\n",
       " 'Sarah',\n",
       " 'Heather',\n",
       " 'Nicole',\n",
       " 'Amy',\n",
       " 'Elizabeth',\n",
       " 'Michelle']"
      ]
     },
     "execution_count": 41,
     "metadata": {},
     "output_type": "execute_result"
    }
   ],
   "source": [
    "list(female_names.keys())[:10]"
   ]
  },
  {
   "cell_type": "code",
   "execution_count": 45,
   "metadata": {},
   "outputs": [],
   "source": [
    "female_totals = {name: sum(map(int, x.values())) for name, x in female_names.items()}"
   ]
  },
  {
   "cell_type": "code",
   "execution_count": 46,
   "metadata": {},
   "outputs": [
    {
     "data": {
      "text/plain": [
       "[('Jennifer', 667626),\n",
       " ('Amanda', 618448),\n",
       " ('Jessica', 881437),\n",
       " ('Melissa', 354767),\n",
       " ('Sarah', 667888),\n",
       " ('Heather', 280406),\n",
       " ('Nicole', 423417),\n",
       " ('Amy', 250319),\n",
       " ('Elizabeth', 598873),\n",
       " ('Michelle', 301380)]"
      ]
     },
     "execution_count": 46,
     "metadata": {},
     "output_type": "execute_result"
    }
   ],
   "source": [
    "list(female_totals.items())[:10]"
   ]
  },
  {
   "cell_type": "code",
   "execution_count": 50,
   "metadata": {},
   "outputs": [],
   "source": [
    "top_names = sorted([ (count,name) for name, count in female_totals.items()], reverse=True)"
   ]
  },
  {
   "cell_type": "code",
   "execution_count": 51,
   "metadata": {},
   "outputs": [
    {
     "data": {
      "text/plain": [
       "[(881437, 'Jessica'),\n",
       " (824206, 'Ashley'),\n",
       " (710157, 'Emily'),\n",
       " (667888, 'Sarah'),\n",
       " (667626, 'Jennifer'),\n",
       " (618448, 'Amanda'),\n",
       " (598873, 'Elizabeth'),\n",
       " (536269, 'Samantha'),\n",
       " (444541, 'Emma'),\n",
       " (433746, 'Stephanie')]"
      ]
     },
     "execution_count": 51,
     "metadata": {},
     "output_type": "execute_result"
    }
   ],
   "source": [
    "top_names[:10]"
   ]
  },
  {
   "cell_type": "code",
   "execution_count": 52,
   "metadata": {},
   "outputs": [],
   "source": [
    "with open(\"top2000f-last40.txt\", \"w\") as f:\n",
    "    for count, name in top_names[:2000]:\n",
    "        f.write(f\"{name}\\n\")\n",
    "        "
   ]
  },
  {
   "cell_type": "code",
   "execution_count": null,
   "metadata": {},
   "outputs": [],
   "source": []
  }
 ],
 "metadata": {
  "kernelspec": {
   "display_name": "Python 3",
   "language": "python",
   "name": "python3"
  },
  "language_info": {
   "codemirror_mode": {
    "name": "ipython",
    "version": 3
   },
   "file_extension": ".py",
   "mimetype": "text/x-python",
   "name": "python",
   "nbconvert_exporter": "python",
   "pygments_lexer": "ipython3",
   "version": "3.8.5"
  }
 },
 "nbformat": 4,
 "nbformat_minor": 4
}
